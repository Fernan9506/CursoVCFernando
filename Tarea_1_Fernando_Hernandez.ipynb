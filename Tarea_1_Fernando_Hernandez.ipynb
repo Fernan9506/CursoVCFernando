{
 "cells": [
  {
   "cell_type": "markdown",
   "metadata": {},
   "source": [
    "<center> \n",
    "    <h1>Curso de vision por Computador</h1> \n",
    "</center> \n",
    "\n",
    "![GRAFICO](https://prod-discovery.edx-cdn.org/media/course/image/bdb0dc49-6b0d-457f-90f9-e20e4b1520ec-b676bea8add8.small.jpg)\n",
    "\n",
    "### Alumno: Fernando Hernandez Carrasco\n",
    "### Fecha: 17 de Noviembre del 2020\n",
    "\n",
    "\n",
    "<center> \n",
    "    <span style=\"color:blue\"><h2>Tarea 1</h2></span>\n",
    "</center>"
   ]
  },
  {
   "cell_type": "code",
   "execution_count": null,
   "metadata": {},
   "outputs": [],
   "source": [
    "import numpy as np\n",
    "import cv2 as cv\n",
    "def draw_t1(event, x, y, flags, param):\n",
    "    if(event == cv.EVENT_LBUTTONDBLCLK):\n",
    "        cv.circle(img, (x, y), 25, (255,0,0), -1 )\n",
    "    if(event == cv.EVENT_RBUTTONDBLCLK):\n",
    "        cv.rectangle(img,(x,y), (20,30),(255,0,0),-1 )\n",
    "\n",
    "img = np.zeros((512,512,3), np.uint8)\n",
    "\n",
    "cv.namedWindow('Tarea 1 Fernando Hernandez')\n",
    "cv.setMouseCallback('Dibujando Figuras', draw_t1)\n",
    "\n",
    "while(True):\n",
    "    cv.imshow('Dibujando Figuras',img)\n",
    "    if (cv.waitKey(1) & 0xFF ==ord('q')):\n",
    "        break\n",
    "cv.destroyAllWindows()"
   ]
  },
  {
   "cell_type": "code",
   "execution_count": null,
   "metadata": {},
   "outputs": [],
   "source": []
  }
 ],
 "metadata": {
  "kernelspec": {
   "display_name": "Python 3",
   "language": "python",
   "name": "python3"
  },
  "language_info": {
   "codemirror_mode": {
    "name": "ipython",
    "version": 3
   },
   "file_extension": ".py",
   "mimetype": "text/x-python",
   "name": "python",
   "nbconvert_exporter": "python",
   "pygments_lexer": "ipython3",
   "version": "3.8.3"
  }
 },
 "nbformat": 4,
 "nbformat_minor": 4
}
