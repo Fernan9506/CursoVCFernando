{
 "cells": [
  {
   "cell_type": "markdown",
   "metadata": {},
   "source": [
    "<center> \n",
    "    <h1>Curso de vision por Computador</h1> \n",
    "</center> \n",
    "\n",
    "![GRAFICO](https://prod-discovery.edx-cdn.org/media/course/image/bdb0dc49-6b0d-457f-90f9-e20e4b1520ec-b676bea8add8.small.jpg)\n",
    "\n",
    "### Alumno: Fernando Hernandez Carrasco\n",
    "### Fecha: 18 de Noviembre del 2020\n",
    "\n",
    "\n",
    "<center> \n",
    "    <span style=\"color:blue\"><h2>Tarea 2</h2></span>\n",
    "</center>"
   ]
  },
  {
   "cell_type": "code",
   "execution_count": null,
   "metadata": {},
   "outputs": [],
   "source": [
    "import numpy as np\n",
    "import cv2 as cv\n",
    "def draw_t1(event, x, y, flags, param):\n",
    "    if(event == cv.EVENT_LBUTTONDBLCLK):\n",
    "        cv.circle(img, (x, y), 25, (255,0,0), -1 )\n",
    "    if(event == cv.EVENT_RBUTTONDBLCLK):\n",
    "        cv.rectangle(img,(x,y), (20,30),(255,0,0),-1 )\n",
    "\n",
    "img = np.zeros((512,512,3), np.uint8)\n",
    "\n",
    "cv.namedWindow('Tarea 1 Fernando Hernandez')\n",
    "cv.setMouseCallback('Dibujando Figuras', draw_t1)\n",
    "\n",
    "while(True):\n",
    "    cv.imshow('Dibujando Figuras',img)\n",
    "    if (cv.waitKey(1) & 0xFF ==ord('q')):\n",
    "        break\n",
    "cv.destroyAllWindows()"
   ]
  },
  {
   "cell_type": "code",
   "execution_count": null,
   "metadata": {},
   "outputs": [],
   "source": [
    "#mostrar imágenes\n",
    "plt.figure(1)\n",
    "plt.imshow(img1)\n",
    "plt.title(\"Imagen 1\")\n",
    "\n",
    "plt.figure(2)\n",
    "plt.imshow(img2)\n",
    "plt.title(\"Imagen 2\")"
   ]
  },
  {
   "cell_type": "code",
   "execution_count": null,
   "metadata": {},
   "outputs": [],
   "source": [
    "#combinar las imágenes\n",
    "img_out = cv.addWeighted(img1,0.6,img2,0.4,0)\n",
    "plt.imshow(img_out)"
   ]
  },
  {
   "cell_type": "code",
   "execution_count": null,
   "metadata": {},
   "outputs": [],
   "source": [
    "import numpy as np\n",
    "import cv2 as cv\n",
    "import matplotlib.pyplot as plt\n",
    "\n",
    "img = cv.cvtColor(cv.imread(\"imagen3.jpg\"), cv.COLOR_BGR2RGB)\n",
    "plt.imshow(img)\n",
    "\n"
   ]
  },
  {
   "cell_type": "code",
   "execution_count": null,
   "metadata": {},
   "outputs": [],
   "source": [
    "roi = img[50:270,380:520]\n",
    "plt.imshow(roi)"
   ]
  },
  {
   "cell_type": "code",
   "execution_count": null,
   "metadata": {},
   "outputs": [],
   "source": [
    "img[50:270,600:740] = roi\n",
    "plt.imshow(img)"
   ]
  },
  {
   "cell_type": "code",
   "execution_count": null,
   "metadata": {},
   "outputs": [],
   "source": [
    "#immportamos las librerias\n",
    "import cv2 as cv\n",
    "import numpy as np\n",
    "import matplotlib.pyplot as plt\n",
    "# cargar nuestras imagenes\n",
    "img1 = cv.imread('imagenes/assassinsCreed.jpg')\n",
    "img2 = cv.imread('imagenes/assassinsLogo.png')\n",
    "# cambiando espacio de color\n",
    "AC = cv.cvtColor(img1, cv.COLOR_BGR2RGB)\n",
    "logo = cv.cvtColor(img2, cv.COLOR_BGR2RGB)\n",
    "# mostrado las imagenes leidas\n",
    "plt.figure(1)\n",
    "plt.imshow(torre)\n",
    "plt.figure(2)\n",
    "plt.imshow(cv2)\n",
    "# cambiamos el tamano de imagen--Logo\n",
    "fil,col,_ = AC.shape\n",
    "fil2,col2,_ = logo.shape\n",
    "logo = cv.resize(logo,(col2//2,fil2//2))\n",
    "plt.imshow(logo)\n",
    "fil, col,_ =logo.shape\n",
    "roi = AC[0:fil,0:col]\n",
    "plt.imshow(roi)#Crear una máscara del logo opencv\n",
    "logo_gray = cv.cvtColor(logo, cv.COLOR_RGB2GRAY)\n",
    "ret,mask = cv.threshold(logo_gray, 15, 255, cv.THRESH_BINARY)\n",
    "plt.imshow(mask, cmap=\"gray\")"
   ]
  },
  {
   "cell_type": "code",
   "execution_count": null,
   "metadata": {},
   "outputs": [],
   "source": [
    "# Creamos una mascara invertida\n",
    "mask_inv = cv.bitwise_not(mask)\n",
    "plt.imshow(mask_inv, cmap=\"gray\")"
   ]
  },
  {
   "cell_type": "code",
   "execution_count": null,
   "metadata": {},
   "outputs": [],
   "source": [
    "# tomamos el roi menos la mascara\n",
    "img1_bg = cv.bitwise_and(roi,roi,mask = mask_inv)\n",
    "plt.imshow(img1_bg)"
   ]
  },
  {
   "cell_type": "code",
   "execution_count": null,
   "metadata": {},
   "outputs": [],
   "source": [
    "#tomamos region de intere del logotipo opencv\n",
    "img2_bg = cv.bitwise_and(logo,logo,mask=mask)\n",
    "plt.imshow(img2_bg)"
   ]
  },
  {
   "cell_type": "code",
   "execution_count": null,
   "metadata": {},
   "outputs": [],
   "source": [
    "img = img1_bg + img2_bg\n",
    "plt.imshow(img)"
   ]
  },
  {
   "cell_type": "code",
   "execution_count": null,
   "metadata": {},
   "outputs": [],
   "source": [
    "AC[0:fil,0:col]=img\n",
    "plt.imshow(AC)"
   ]
  }
 ],
 "metadata": {
  "kernelspec": {
   "display_name": "Python 3",
   "language": "python",
   "name": "python3"
  },
  "language_info": {
   "codemirror_mode": {
    "name": "ipython",
    "version": 3
   },
   "file_extension": ".py",
   "mimetype": "text/x-python",
   "name": "python",
   "nbconvert_exporter": "python",
   "pygments_lexer": "ipython3",
   "version": "3.8.3"
  },
  "latex_envs": {
   "LaTeX_envs_menu_present": true,
   "autoclose": false,
   "autocomplete": true,
   "bibliofile": "biblio.bib",
   "cite_by": "apalike",
   "current_citInitial": 1,
   "eqLabelWithNumbers": true,
   "eqNumInitial": 1,
   "hotkeys": {
    "equation": "Ctrl-E",
    "itemize": "Ctrl-I"
   },
   "labels_anchors": false,
   "latex_user_defs": false,
   "report_style_numbering": false,
   "user_envs_cfg": false
  }
 },
 "nbformat": 4,
 "nbformat_minor": 4
}
